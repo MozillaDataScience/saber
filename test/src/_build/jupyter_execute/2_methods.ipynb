{
 "cells": [
  {
   "cell_type": "markdown",
   "metadata": {},
   "source": [
    "# Methods"
   ]
  },
  {
   "cell_type": "code",
   "execution_count": 1,
   "metadata": {
    "execution": {
     "iopub.execute_input": "2020-08-24T15:30:15.410635Z",
     "iopub.status.busy": "2020-08-24T15:30:15.409888Z",
     "iopub.status.idle": "2020-08-24T15:30:16.134955Z",
     "shell.execute_reply": "2020-08-24T15:30:16.135386Z"
    },
    "tags": [
     "remove-cell"
    ]
   },
   "outputs": [
    {
     "data": {
      "text/plain": [
       "3"
      ]
     },
     "metadata": {
      "scrapbook": {
       "mime_prefix": "",
       "name": "n_branches"
      }
     },
     "output_type": "display_data"
    },
    {
     "data": {
      "text/plain": [
       "['control', 'treatment-banner', 'treatment-no-banner']"
      ]
     },
     "metadata": {
      "scrapbook": {
       "mime_prefix": "",
       "name": "branches"
      }
     },
     "output_type": "display_data"
    },
    {
     "data": {
      "text/plain": [
       "9"
      ]
     },
     "metadata": {
      "scrapbook": {
       "mime_prefix": "",
       "name": "n_metrics"
      }
     },
     "output_type": "display_data"
    },
    {
     "data": {
      "text/plain": [
       "['active_hours_sum',\n",
       " 'ad_clicks',\n",
       " 'organic_search_count',\n",
       " 'search_count',\n",
       " 'searches_with_ads',\n",
       " 'separate_search_engine',\n",
       " 'subsession_hours_sum',\n",
       " 'tagged_follow_on_search_count',\n",
       " 'tagged_search_count']"
      ]
     },
     "metadata": {
      "scrapbook": {
       "mime_prefix": "",
       "name": "metrics"
      }
     },
     "output_type": "display_data"
    }
   ],
   "source": [
    "import numpy as np\n",
    "import pandas as pd\n",
    "import json\n",
    "import os.path as op\n",
    "from myst_nb import glue\n",
    "\n",
    "report = json.load(open(op.join(\"..\", \"report.json\")))\n",
    "\n",
    "df = pd.read_csv(op.join('..', 'data',\n",
    "                 f\"{report['last_date_full_data']}_{report['experiment_slug']}.csv\"))\n",
    "\n",
    "branches = np.unique(df['branch']).tolist()\n",
    "metrics = np.unique(df['metric']).tolist()\n",
    "\n",
    "glue('n_branches', len(branches))\n",
    "glue('branches', branches)\n",
    "glue('n_metrics', len(metrics))\n",
    "glue('metrics', metrics)"
   ]
  },
  {
   "cell_type": "markdown",
   "metadata": {},
   "source": [
    "## Supporting Assets"
   ]
  },
  {
   "cell_type": "code",
   "execution_count": 2,
   "metadata": {
    "execution": {
     "iopub.execute_input": "2020-08-24T15:30:16.139973Z",
     "iopub.status.busy": "2020-08-24T15:30:16.139164Z",
     "iopub.status.idle": "2020-08-24T15:30:16.141829Z",
     "shell.execute_reply": "2020-08-24T15:30:16.142383Z"
    },
    "tags": [
     "remove-cell"
    ]
   },
   "outputs": [
    {
     "data": {
      "text/plain": [
       "'https://experimenter.services.mozilla.com/experiments/separate_search_default_pbm'"
      ]
     },
     "metadata": {
      "scrapbook": {
       "mime_prefix": "",
       "name": "experimenter_url"
      }
     },
     "output_type": "display_data"
    }
   ],
   "source": [
    "glue('experimenter_url', op.join('https://experimenter.services.mozilla.com',\n",
    "                                 'experiments',\n",
    "                                 report['experimenter_name']))"
   ]
  },
  {
   "cell_type": "markdown",
   "metadata": {},
   "source": [
    "- Experimenter: {glue:text}`experimenter_url`\n",
    "\n",
    "\n",
    "## Terminology\n",
    "\n",
    "For this study, we used the following terms for our analysis:\n",
    "\n",
    "__DS to complete__\n",
    "\n",
    "## Data Assets\n",
    "This experiment launched on {glue:text}`report['start_date']`, and targeted {glue:text}`report['target_percent']` of Firefox Users on version {glue:text}`report['versions']`. These users were randomly sampled and assigned one of the {glue:text}`n_branches` experimental conditions: {glue:text}`branches`.\n",
    "\n",
    "We evaluated {glue:text}`n_metrics` measures of interactions in this study on a `per user` basis:"
   ]
  },
  {
   "cell_type": "code",
   "execution_count": 3,
   "metadata": {
    "execution": {
     "iopub.execute_input": "2020-08-24T15:30:16.146522Z",
     "iopub.status.busy": "2020-08-24T15:30:16.145719Z",
     "iopub.status.idle": "2020-08-24T15:30:16.148197Z",
     "shell.execute_reply": "2020-08-24T15:30:16.148666Z"
    },
    "tags": [
     "remove-input"
    ]
   },
   "outputs": [
    {
     "name": "stdout",
     "output_type": "stream",
     "text": [
      "active_hours_sum\n",
      "ad_clicks\n",
      "organic_search_count\n",
      "search_count\n",
      "searches_with_ads\n",
      "separate_search_engine\n",
      "subsession_hours_sum\n",
      "tagged_follow_on_search_count\n",
      "tagged_search_count\n"
     ]
    }
   ],
   "source": [
    "print('\\n'.join(metrics))"
   ]
  }
 ],
 "metadata": {
  "jupytext": {
   "cell_metadata_filter": "-all",
   "formats": "md:myst",
   "text_representation": {
    "extension": ".md",
    "format_name": "myst",
    "format_version": "0.9",
    "jupytext_version": "1.5.2"
   }
  },
  "kernelspec": {
   "display_name": "Python 3",
   "language": "python",
   "name": "python3"
  },
  "language_info": {
   "codemirror_mode": {
    "name": "ipython",
    "version": 3
   },
   "file_extension": ".py",
   "mimetype": "text/x-python",
   "name": "python",
   "nbconvert_exporter": "python",
   "pygments_lexer": "ipython3",
   "version": "3.7.6"
  },
  "source_map": [
   14,
   18,
   39,
   44,
   50,
   66
  ]
 },
 "nbformat": 4,
 "nbformat_minor": 4
}