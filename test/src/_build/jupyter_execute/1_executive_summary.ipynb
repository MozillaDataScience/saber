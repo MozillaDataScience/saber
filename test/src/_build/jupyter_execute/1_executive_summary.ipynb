{
 "cells": [
  {
   "cell_type": "markdown",
   "metadata": {},
   "source": [
    "# Executive Summary"
   ]
  },
  {
   "cell_type": "code",
   "execution_count": 1,
   "metadata": {
    "execution": {
     "iopub.execute_input": "2020-08-24T15:30:12.817547Z",
     "iopub.status.busy": "2020-08-24T15:30:12.816305Z",
     "iopub.status.idle": "2020-08-24T15:30:13.574850Z",
     "shell.execute_reply": "2020-08-24T15:30:13.575276Z"
    },
    "tags": [
     "remove-cell"
    ]
   },
   "outputs": [
    {
     "data": {
      "text/plain": [
       "'Pref-Flip Experiment: Separate Search default in Private Browsing'"
      ]
     },
     "metadata": {
      "scrapbook": {
       "mime_prefix": "",
       "name": "report['title']"
      }
     },
     "output_type": "display_data"
    },
    {
     "data": {
      "text/plain": [
       "'2020-03-25'"
      ]
     },
     "metadata": {
      "scrapbook": {
       "mime_prefix": "",
       "name": "report['publish_date']"
      }
     },
     "output_type": "display_data"
    },
    {
     "data": {
      "text/plain": [
       "'Teon L Brooks'"
      ]
     },
     "metadata": {
      "scrapbook": {
       "mime_prefix": "",
       "name": "report['author']"
      }
     },
     "output_type": "display_data"
    },
    {
     "data": {
      "text/plain": [
       "'teon@mozilla.com'"
      ]
     },
     "metadata": {
      "scrapbook": {
       "mime_prefix": "",
       "name": "report['email']"
      }
     },
     "output_type": "display_data"
    },
    {
     "data": {
      "text/plain": [
       "'pref-separate-search-default-in-private-browsing-release-71-73-bug-1603606'"
      ]
     },
     "metadata": {
      "scrapbook": {
       "mime_prefix": "",
       "name": "report['experiment_slug']"
      }
     },
     "output_type": "display_data"
    },
    {
     "data": {
      "text/plain": [
       "'index.html'"
      ]
     },
     "metadata": {
      "scrapbook": {
       "mime_prefix": "",
       "name": "report['file']"
      }
     },
     "output_type": "display_data"
    },
    {
     "data": {
      "text/plain": [
       "'separate_search_default_pbm'"
      ]
     },
     "metadata": {
      "scrapbook": {
       "mime_prefix": "",
       "name": "report['experimenter_name']"
      }
     },
     "output_type": "display_data"
    },
    {
     "data": {
      "text/plain": [
       "'2019-12-17'"
      ]
     },
     "metadata": {
      "scrapbook": {
       "mime_prefix": "",
       "name": "report['start_date']"
      }
     },
     "output_type": "display_data"
    },
    {
     "data": {
      "text/plain": [
       "'2020-02-18'"
      ]
     },
     "metadata": {
      "scrapbook": {
       "mime_prefix": "",
       "name": "report['last_date_full_data']"
      }
     },
     "output_type": "display_data"
    },
    {
     "data": {
      "text/plain": [
       "28"
      ]
     },
     "metadata": {
      "scrapbook": {
       "mime_prefix": "",
       "name": "report['num_dates_enrollment']"
      }
     },
     "output_type": "display_data"
    },
    {
     "data": {
      "text/plain": [
       "0"
      ]
     },
     "metadata": {
      "scrapbook": {
       "mime_prefix": "",
       "name": "report['analysis_start_days']"
      }
     },
     "output_type": "display_data"
    },
    {
     "data": {
      "text/plain": [
       "32"
      ]
     },
     "metadata": {
      "scrapbook": {
       "mime_prefix": "",
       "name": "report['analysis_length_days']"
      }
     },
     "output_type": "display_data"
    },
    {
     "data": {
      "text/plain": [
       "1000"
      ]
     },
     "metadata": {
      "scrapbook": {
       "mime_prefix": "",
       "name": "report['n_resamples']"
      }
     },
     "output_type": "display_data"
    },
    {
     "data": {
      "text/plain": [
       "0.2"
      ]
     },
     "metadata": {
      "scrapbook": {
       "mime_prefix": "",
       "name": "report['target_percent']"
      }
     },
     "output_type": "display_data"
    },
    {
     "data": {
      "text/plain": [
       "''"
      ]
     },
     "metadata": {
      "scrapbook": {
       "mime_prefix": "",
       "name": "report['versions']"
      }
     },
     "output_type": "display_data"
    },
    {
     "data": {
      "text/plain": [
       "'teon'"
      ]
     },
     "metadata": {
      "scrapbook": {
       "mime_prefix": "",
       "name": "report['dataset_id']"
      }
     },
     "output_type": "display_data"
    },
    {
     "data": {
      "text/plain": [
       "['search_count',\n",
       " 'searches_with_ads',\n",
       " 'tagged_search_count',\n",
       " 'tagged_follow_on_search_count',\n",
       " 'ad_clicks',\n",
       " 'organic_search_count']"
      ]
     },
     "metadata": {
      "scrapbook": {
       "mime_prefix": "",
       "name": "report['metrics']"
      }
     },
     "output_type": "display_data"
    },
    {
     "data": {
      "text/plain": [
       "{'search_clients_daily': {'separate_search_engine': 'ANY_VALUE(CASE WHEN default_search_engine = default_private_search_engine or default_private_search_engine is null THEN 0 ELSE 1 END)',\n",
       "  'subsession_hours_sum': 'ANY_VALUE(subsession_hours_sum)',\n",
       "  'active_hours_sum': 'ANY_VALUE(active_hours_sum)'}}"
      ]
     },
     "metadata": {
      "scrapbook": {
       "mime_prefix": "",
       "name": "report['user_defined_metrics']"
      }
     },
     "output_type": "display_data"
    }
   ],
   "source": [
    "from myst_nb import glue\n",
    "import numpy as np\n",
    "import pandas as pd\n",
    "import json\n",
    "import os.path as op\n",
    "\n",
    "\n",
    "report = json.load(open(op.join(\"..\", \"report.json\")))\n",
    "# hack to add all the report keys to the glue scope\n",
    "for key in report:\n",
    "    glue(f\"report['{key}']\", report[key])"
   ]
  },
  {
   "cell_type": "markdown",
   "metadata": {},
   "source": [
    "{glue:text}`report['author']` <{glue:text}`report['email']`>\n",
    "\n",
    "Date: {glue:text}`report['publish_date']`\n",
    "\n",
    "Status: <*automated draft*>\n",
    "\n",
    "## Motivation\n",
    "This is an experiment report for the {glue:text}`report['experiment_slug']` study.\n",
    "\n",
    "__DS to complete__\n",
    "\n",
    "## Takeaways\n",
    "\n",
    "__DS to complete__\n",
    "\n",
    "## Design\n",
    "\n",
    "```{image} images/design.png\n",
    ":alt: 'experiment mockup'\n",
    ":width: 600px\n",
    ":align: center\n",
    "```\n",
    "\n",
    "```{toctree}\n",
    ":hidden:\n",
    ":titlesonly:\n",
    "\n",
    "\n",
    "2_methods\n",
    "3_analysis\n",
    "```"
   ]
  }
 ],
 "metadata": {
  "jupytext": {
   "cell_metadata_filter": "-all",
   "formats": "md:myst",
   "text_representation": {
    "extension": ".md",
    "format_name": "myst",
    "format_version": "0.9",
    "jupytext_version": "1.5.2"
   }
  },
  "kernelspec": {
   "display_name": "Python 3",
   "language": "python",
   "name": "python3"
  },
  "language_info": {
   "codemirror_mode": {
    "name": "ipython",
    "version": 3
   },
   "file_extension": ".py",
   "mimetype": "text/x-python",
   "name": "python",
   "nbconvert_exporter": "python",
   "pygments_lexer": "ipython3",
   "version": "3.7.6"
  },
  "source_map": [
   14,
   17,
   31
  ]
 },
 "nbformat": 4,
 "nbformat_minor": 4
}